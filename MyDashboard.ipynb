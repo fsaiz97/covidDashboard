{
 "cells": [
  {
   "cell_type": "markdown",
   "metadata": {},
   "source": [
    "# Covid-19 Dashboard"
   ]
  },
  {
   "cell_type": "markdown",
   "metadata": {},
   "source": [
    "This Binder displays an interactive graph of the number of Covid-19 carried out daily, shown seperately for England, Scotland, Wales and Northern Ireland. The data was obtained through [Public Health England](https://www.gov.uk/government/organisations/public-health-england)'s [API](https://coronavirus.data.gov.uk/details/developers-guide) and visualised with the [pandas](https://pandas.pydata.org) data analysis library, and [Jupyter](https://jupyter.org/)'s [ipywidgets](https://ipywidgets.readthedocs.io/en/latest/) library. The controls are easy to use:\n",
    "* To change which nations are displayed, simply click and drag to highlight the desired nations, or [CTRL + click] each nation you want.\n",
    "* The nations can be displayed on a single graph, or on seperate graphs, by toggling the Subplots option.\n",
    "* To view the most up to date data, click the red button to refresh the graphs, redrawing them with any new data."
   ]
  },
  {
   "cell_type": "code",
   "execution_count": 33,
   "metadata": {},
   "outputs": [],
   "source": [
    "import ipywidgets as wdg\n",
    "import pandas as pd\n",
    "import numpy as np\n",
    "import matplotlib.pyplot as plt\n",
    "import json\n",
    "import time\n",
    "from uk_covid19 import Cov19API"
   ]
  },
  {
   "cell_type": "code",
   "execution_count": 15,
   "metadata": {},
   "outputs": [],
   "source": [
    "%matplotlib inline\n",
    "# make figures larger\n",
    "plt.rcParams['figure.dpi'] = 100"
   ]
  },
  {
   "cell_type": "code",
   "execution_count": 2,
   "metadata": {},
   "outputs": [],
   "source": [
    "# Load JSON files and store the raw data in some variable.\n",
    "with open(\"testsByNation.json\", \"rt\") as INFILE:\n",
    "    jsondata=json.load(INFILE)"
   ]
  },
  {
   "cell_type": "code",
   "execution_count": 3,
   "metadata": {},
   "outputs": [],
   "source": [
    "def parse_date(datestring):\n",
    "    \"\"\" Convert a date string into a pandas datetime object \"\"\"\n",
    "    return pd.to_datetime(datestring, format=\"%Y-%m-%d\")\n",
    "\n",
    "def create_date_range(data):\n",
    "    # generate a date range from a json datafile containing date strings\n",
    "    \n",
    "    datalist = data['data']\n",
    "    \n",
    "    dates=[dictionary['date'] for dictionary in datalist]\n",
    "    dates.sort()\n",
    "    \n",
    "    startdate=parse_date(dates[0])\n",
    "    enddate=parse_date(dates[-1])\n",
    "    \n",
    "    return pd.date_range(startdate, enddate, freq='D')\n",
    "\n",
    "def wrangle_data(rawdata):\n",
    "    \"\"\" Parameters: rawdata - data from json file or API call. Returns a dataframe. \"\"\"\n",
    "    datalist = rawdata['data']\n",
    "    \n",
    "    nationlist = []\n",
    "    for entry in datalist: # each entry is a dictionary with date, nation and new tests\n",
    "        if entry['nation'] not in nationlist:\n",
    "            nationlist.append(entry['nation'])\n",
    "\n",
    "    index=create_date_range(rawdata)\n",
    "    myTimeseriesdf=pd.DataFrame(index=index, columns=nationlist)\n",
    "\n",
    "    for entry in datalist:\n",
    "        date=parse_date(entry['date'])\n",
    "        column = entry['nation']\n",
    "        # check that nothing is there yet - just in case some dates are duplicated,\n",
    "        # maybe with data for different columns in each entry\n",
    "        if pd.isna(myTimeseriesdf.loc[date, column]): \n",
    "            # replace None with 0 in our data \n",
    "            value = float(entry['tests']) if entry['tests']!=None else 0.0\n",
    "            myTimeseriesdf.loc[date, column] = value\n",
    "\n",
    "    # fill in any remaining \"holes\" due to missing dates\n",
    "    myTimeseriesdf.fillna(0.0, inplace=True)\n",
    "    \n",
    "    return myTimeseriesdf\n",
    "\n",
    "df=wrangle_data(jsondata) # df is the dataframe for plotting"
   ]
  },
  {
   "cell_type": "code",
   "execution_count": 4,
   "metadata": {},
   "outputs": [],
   "source": [
    "def access_api():\n",
    "    # Access the covid API and returns the tests data, with the latest data.\n",
    "    filters = [\n",
    "        'areaType=nation',\n",
    "    ]\n",
    "\n",
    "    structure = {\n",
    "        \"date\": \"date\",\n",
    "        \"nation\": \"areaName\",\n",
    "        \"tests\": \"newTestsByPublishDate\"\n",
    "    }\n",
    "\n",
    "    api = Cov19API(filters=filters, structure=structure)\n",
    "    testsByNation = api.get_json()\n",
    "\n",
    "    return testsByNation # return data read from the API"
   ]
  },
  {
   "cell_type": "code",
   "execution_count": 38,
   "metadata": {},
   "outputs": [],
   "source": [
    "def api_button_callback(button):\n",
    "    \"\"\" Accesses API, wrangles data, updates global variable df used for plotting. \"\"\"\n",
    "    # Get fresh data from the API.\n",
    "    apidata=access_api()\n",
    "    # wrangle the data and overwrite the dataframe for plotting\n",
    "    global df\n",
    "    df=wrangle_data(apidata)\n",
    "    # the graph won't refresh until the user interacts with the widget.\n",
    "    refresh_graph()\n",
    "    apibutton.icon=\"check-circle\"\n",
    "    time.sleep(2) # delay to allow the user to acknowledge the successful refresh, then resets the button\n",
    "    apibutton.icon=\"download\"\n",
    "    \n",
    "\n",
    "    \n",
    "apibutton=wdg.Button(\n",
    "    description='Refresh',\n",
    "    button_style='danger',\n",
    "    tooltip=\"Click to refresh data from Public Health England\",\n",
    "    icon='download'\n",
    ")\n",
    "\n",
    "apibutton.on_click(api_button_callback)\n",
    "\n",
    "#display(apibutton)"
   ]
  },
  {
   "cell_type": "code",
   "execution_count": 50,
   "metadata": {},
   "outputs": [
    {
     "data": {
      "application/vnd.jupyter.widget-view+json": {
       "model_id": "e18b401bd90a4ebbaba0bb78f4d8ecd5",
       "version_major": 2,
       "version_minor": 0
      },
      "text/plain": [
       "HBox(children=(SelectMultiple(description='Nations', index=(0, 1, 2, 3), options=('England', 'Northern Ireland…"
      ]
     },
     "metadata": {},
     "output_type": "display_data"
    },
    {
     "data": {
      "application/vnd.jupyter.widget-view+json": {
       "model_id": "d6d18dbd09ac4659afb4992b8f195b6e",
       "version_major": 2,
       "version_minor": 0
      },
      "text/plain": [
       "Output()"
      ]
     },
     "metadata": {},
     "output_type": "display_data"
    },
    {
     "data": {
      "application/vnd.jupyter.widget-view+json": {
       "model_id": "e62a049836cb4954931fbee70ea91993",
       "version_major": 2,
       "version_minor": 0
      },
      "text/plain": [
       "Button(button_style='danger', description='Refresh', icon='download', style=ButtonStyle(), tooltip='Click to r…"
      ]
     },
     "metadata": {},
     "output_type": "display_data"
    }
   ],
   "source": [
    "nationcols=wdg.SelectMultiple(\n",
    "    options=['England', 'Northern Ireland', 'Scotland', 'Wales'],\n",
    "    value=['England', 'Northern Ireland', 'Scotland', 'Wales'], # initial value\n",
    "    rows=4,\n",
    "    description='Nations',\n",
    "    disabled=False\n",
    ")\n",
    "\n",
    "subplot_btn=wdg.RadioButtons(\n",
    "    options=['True', 'False'],\n",
    "    value='False', # Defaults to false\n",
    "    description='Subplots:',\n",
    ")\n",
    "\n",
    "date_range = create_date_range(jsondata)\n",
    "options = [(date.strftime(' %d/%m/%Y '), date) for date in date_range]\n",
    "timeframewdg = wdg.SelectionRangeSlider(\n",
    "    options = options,\n",
    "    index = (0,len(options)-1),\n",
    "    description='Dates',\n",
    "    layout={'width': '500px'}\n",
    ")\n",
    "\n",
    "def tests_graph(graphcolumns, subplot, timeframe):\n",
    "    # the callback function.\n",
    "    if subplot == 'True':\n",
    "        subp_value=True\n",
    "    else:\n",
    "        subp_value=False\n",
    "    ncols=len(graphcolumns)\n",
    "    if ncols>0:\n",
    "        df.plot(subplots=subp_value, figsize=(15,7), xlabel=\"Date\", ylabel=\"Tests\", y=list(graphcolumns)) # graphcolumns is a tuple - we need a list\n",
    "    else:\n",
    "        # if the user has not selected any column, print a message instead\n",
    "        print(\"Click to select data for graph\")\n",
    "        print(\"(CTRL-Click to select more than one category)\")\n",
    "        \n",
    "controls = wdg.HBox([nationcols, subplot_btn])\n",
    "\n",
    "output=wdg.interactive_output(tests_graph, {'graphcolumns': nationcols, 'subplot': subplot_btn, 'timeframe': timeframewdg})\n",
    "\n",
    "display(controls, output, apibutton)\n",
    "\n",
    "#print(timeframewdg.value)\n",
    "\n",
    "def refresh_graph():\n",
    "    \"\"\" We change the value of the widget in order to force a redraw of the graph;\n",
    "    this is useful when the data have been updated. This is a bit of a gimmick; it\n",
    "    needs to be customised for one of your widgets. \"\"\"\n",
    "    current=nationcols.value\n",
    "    nationcols.value=(nationcols.options[0],) # forces the redraw\n",
    "    nationcols.value=current\n"
   ]
  },
  {
   "cell_type": "markdown",
   "metadata": {},
   "source": [
    "**Author and Copyright Notice** Remember if you deploy this dashboard as a Binder it will be publicly accessible. Take credit for your work! Also acknowledge the data source: *Based on UK Government [data](https://coronavirus.data.gov.uk/) published by [Public Health England](https://www.gov.uk/government/organisations/public-health-england).*"
   ]
  },
  {
   "cell_type": "code",
   "execution_count": null,
   "metadata": {},
   "outputs": [],
   "source": []
  }
 ],
 "metadata": {
  "kernelspec": {
   "display_name": "Python 3",
   "language": "python",
   "name": "python3"
  },
  "language_info": {
   "codemirror_mode": {
    "name": "ipython",
    "version": 3
   },
   "file_extension": ".py",
   "mimetype": "text/x-python",
   "name": "python",
   "nbconvert_exporter": "python",
   "pygments_lexer": "ipython3",
   "version": "3.9.0"
  }
 },
 "nbformat": 4,
 "nbformat_minor": 4
}
